{
  "cells": [
    {
      "cell_type": "markdown",
      "metadata": {
        "id": "view-in-github",
        "colab_type": "text"
      },
      "source": [
        "<a href=\"https://colab.research.google.com/github/jayakrishna-10/Temp_repo/blob/main/anion_silica_vs_conductivity.ipynb\" target=\"_parent\"><img src=\"https://colab.research.google.com/assets/colab-badge.svg\" alt=\"Open In Colab\"/></a>"
      ]
    },
    {
      "cell_type": "code",
      "source": [
        "import pandas as pd\n",
        "main_df = pd.read_csv(\"dm_results_2022.csv\")\n",
        "silica_df = df[[\"ENTRY_DATE\",\"ENTRY_SHIFT\",\"SAMPLE_SOURCE\",\"CONDUCTIVITY\",\"SIO2\"]]\n",
        "anion_df = silica_df.loc[df[\"SAMPLE_SOURCE\"]==\"R6\"]\n",
        "hca_df = anion_df.loc[anion_df[\"CONDUCTIVITY\"]>=25]\n",
        "lca_df = anion_df.loc[anion_df[\"CONDUCTIVITY\"]<25]\n",
        "\n",
        "hchs_df = anion_df.loc[(anion_df[\"CONDUCTIVITY\"]>=25)&(anion_df[\"SIO2\"]>0.09)&(anion_df[\"SIO2\"]<0.5)]\n",
        "lchs_df = anion_df.loc[(anion_df[\"CONDUCTIVITY\"]<25)&(anion_df[\"SIO2\"]>0.09)&(anion_df[\"SIO2\"]<0.5)]\n",
        "ohs_df = anion_df.loc[(anion_df[\"SIO2\"]>0.09)&(anion_df[\"SIO2\"]<0.5)]\n",
        "\n",
        "per_hchs = len(hchs_df)/len(hca_df)*100\n",
        "per_lchs = len(lchs_df)/len(lca_df)*100\n",
        "per_ohs = len(ohs_df)/len(anion_df)*100\n",
        "\n",
        "print(f\"% high silica in high cond: {per_hchs} \\n % high silica in low cond: {per_lchs} \\n % high silica overall: {per_ohs}\")"
      ],
      "metadata": {
        "id": "rfF_5EIqzL7S",
        "outputId": "e9ae5afc-37b2-4c66-b0b3-e6c8c0c6f81b",
        "colab": {
          "base_uri": "https://localhost:8080/"
        }
      },
      "execution_count": 12,
      "outputs": [
        {
          "output_type": "stream",
          "name": "stdout",
          "text": [
            "% high silica in high cond: 63.16614420062696 \n",
            " % high silica in low cond: 25.781584582441113 \n",
            " % high silica overall: 30.25795518734701\n"
          ]
        }
      ]
    },
    {
      "cell_type": "code",
      "source": [],
      "metadata": {
        "id": "JxN9icev57-a"
      },
      "execution_count": null,
      "outputs": []
    }
  ],
  "metadata": {
    "colab": {
      "name": "Welcome To Colaboratory",
      "provenance": [],
      "include_colab_link": true
    },
    "kernelspec": {
      "display_name": "Python 3",
      "name": "python3"
    }
  },
  "nbformat": 4,
  "nbformat_minor": 0
}