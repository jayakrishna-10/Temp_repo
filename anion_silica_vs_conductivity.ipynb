{
  "cells": [
    {
      "cell_type": "markdown",
      "metadata": {
        "id": "view-in-github",
        "colab_type": "text"
      },
      "source": [
        "<a href=\"https://colab.research.google.com/github/jayakrishna-10/Temp_repo/blob/main/anion_silica_vs_conductivity.ipynb\" target=\"_parent\"><img src=\"https://colab.research.google.com/assets/colab-badge.svg\" alt=\"Open In Colab\"/></a>"
      ]
    },
    {
      "cell_type": "code",
      "source": [
        "from google.colab import drive\n",
        "drive.mount('/content/drive')\n",
        "\n",
        "import pandas as pd\n",
        "main_df = pd.read_csv(\"/content/drive/MyDrive/Colab Notebooks/dm_results_2022.csv\")\n",
        "silica_df = main_df[[\"ENTRY_DATE\",\"ENTRY_SHIFT\",\"SAMPLE_SOURCE\",\"CONDUCTIVITY\",\"SIO2\",\"BED_NO\"]]\n",
        "anion_df = silica_df.loc[silica_df[\"SAMPLE_SOURCE\"]==\"R6\"]\n",
        "hca_df = anion_df.loc[anion_df[\"CONDUCTIVITY\"]>=25]\n",
        "lca_df = anion_df.loc[anion_df[\"CONDUCTIVITY\"]<25]\n",
        "\n",
        "hchs_df = anion_df.loc[(anion_df[\"CONDUCTIVITY\"]>=25)&(anion_df[\"SIO2\"]>0.09)&(anion_df[\"SIO2\"]<0.5)]\n",
        "lchs_df = anion_df.loc[(anion_df[\"CONDUCTIVITY\"]<25)&(anion_df[\"SIO2\"]>0.09)&(anion_df[\"SIO2\"]<0.5)]\n",
        "ohs_df = anion_df.loc[(anion_df[\"SIO2\"]>0.09)&(anion_df[\"SIO2\"]<0.5)]\n",
        "\n",
        "per_hchs = len(hchs_df)/len(hca_df)*100\n",
        "per_lchs = len(lchs_df)/len(lca_df)*100\n",
        "per_ohs = len(ohs_df)/len(anion_df)*100\n",
        "\n",
        "print(f\"% high silica in high cond: {per_hchs} \\n % high silica in low cond: {per_lchs} \\n % high silica overall: {per_ohs}\")"
      ],
      "metadata": {
        "id": "rfF_5EIqzL7S",
        "outputId": "adbc9608-0b83-4c52-b11f-24e895dd5d26",
        "colab": {
          "base_uri": "https://localhost:8080/"
        }
      },
      "execution_count": 9,
      "outputs": [
        {
          "output_type": "stream",
          "name": "stdout",
          "text": [
            "Drive already mounted at /content/drive; to attempt to forcibly remount, call drive.mount(\"/content/drive\", force_remount=True).\n",
            "% high silica in high cond: 63.16614420062696 \n",
            " % high silica in low cond: 25.781584582441113 \n",
            " % high silica overall: 30.25795518734701\n"
          ]
        }
      ]
    },
    {
      "cell_type": "code",
      "source": [
        "r6a_df = silica_df.loc[(silica_df[\"BED_NO\"]==\"A\")&(silica_df[\"SAMPLE_SOURCE\"]==\"R6\")]\n",
        "r6b_df = silica_df.loc[(silica_df[\"BED_NO\"]==\"B\")&(silica_df[\"SAMPLE_SOURCE\"]==\"R6\")]\n",
        "r6c_df = silica_df.loc[(silica_df[\"BED_NO\"]==\"C\")&(silica_df[\"SAMPLE_SOURCE\"]==\"R6\")]\n",
        "r6d_df = silica_df.loc[(silica_df[\"BED_NO\"]==\"D\")&(silica_df[\"SAMPLE_SOURCE\"]==\"R6\")]\n",
        "r6e_df = silica_df.loc[(silica_df[\"BED_NO\"]==\"E\")&(silica_df[\"SAMPLE_SOURCE\"]==\"R6\")]\n",
        "r6f_df = silica_df.loc[(silica_df[\"BED_NO\"]==\"F\")&(silica_df[\"SAMPLE_SOURCE\"]==\"R6\")]\n",
        "\n",
        "r7a_df = silica_df.loc[(silica_df[\"BED_NO\"]==\"A\")&(silica_df[\"SAMPLE_SOURCE\"]==\"R7\")]\n",
        "r7b_df = silica_df.loc[(silica_df[\"BED_NO\"]==\"B\")&(silica_df[\"SAMPLE_SOURCE\"]==\"R7\")]\n",
        "r7c_df = silica_df.loc[(silica_df[\"BED_NO\"]==\"C\")&(silica_df[\"SAMPLE_SOURCE\"]==\"R7\")]\n",
        "r7d_df = silica_df.loc[(silica_df[\"BED_NO\"]==\"D\")&(silica_df[\"SAMPLE_SOURCE\"]==\"R7\")]\n",
        "r7e_df = silica_df.loc[(silica_df[\"BED_NO\"]==\"E\")&(silica_df[\"SAMPLE_SOURCE\"]==\"R7\")]\n",
        "r7f_df = silica_df.loc[(silica_df[\"BED_NO\"]==\"F\")&(silica_df[\"SAMPLE_SOURCE\"]==\"R7\")]\n",
        "\n"
      ],
      "metadata": {
        "id": "JxN9icev57-a"
      },
      "execution_count": 21,
      "outputs": []
    },
    {
      "cell_type": "code",
      "source": [],
      "metadata": {
        "id": "k9EsO9coTCm1",
        "outputId": "8fcf284d-2a65-4008-975b-8da47ab7cbb3",
        "colab": {
          "base_uri": "https://localhost:8080/"
        }
      },
      "execution_count": 28,
      "outputs": [
        {
          "output_type": "execute_result",
          "data": {
            "text/plain": [
              "0.015"
            ]
          },
          "metadata": {},
          "execution_count": 28
        }
      ]
    },
    {
      "cell_type": "code",
      "source": [
        "def abnormal_lab(df):\n",
        "  n = 1\n",
        "  n_max = len(df)\n",
        "  abnormal_dates=[]\n",
        "  lab_error_dates = []\n",
        "  while n<n_max-1:\n",
        "    diff1 = abs(df.iloc[n][\"SIO2\"]-df.iloc[n-1][\"SIO2\"])\n",
        "    diff2 = abs(df.iloc[n][\"SIO2\"]-df.iloc[n+1][\"SIO2\"])\n",
        "    if diff1 >=0.008:\n",
        "      abnormal_dates.append(n-1)\n",
        "      abnormal_dates.append(n)\n",
        "\n",
        "    if diff1 >=0.003 and diff2>=0.003:\n",
        "      lab_error_dates.append(n-1)\n",
        "      lab_error_dates.append(n)\n",
        "      lab_error_dates.append(n+1)\n",
        "\n",
        "    n=n+1\n",
        "  \n",
        "  return abnormal_dates, lab_error_dates\n",
        "\n",
        "r7a_abnormal, r7a_error = abnormal_lab(r7a_df)\n",
        "\n",
        "#print(r7a_df.iloc[list(set(r7a_abnormal))].head(40))\n",
        "print(r7a_df.iloc[list(set(r7a_error))].head(40))\n",
        "\n",
        "\n",
        "  \n"
      ],
      "metadata": {
        "id": "BYz0NZHBJzIJ",
        "outputId": "d09cf6d0-e981-490b-f2f2-a9d558dc39bc",
        "colab": {
          "base_uri": "https://localhost:8080/"
        }
      },
      "execution_count": 38,
      "outputs": [
        {
          "output_type": "stream",
          "name": "stdout",
          "text": [
            "      ENTRY_DATE ENTRY_SHIFT SAMPLE_SOURCE  CONDUCTIVITY   SIO2 BED_NO\n",
            "307   08-01-2022           B            R7          0.60  0.017      A\n",
            "324   08-01-2022           B            R7          1.30  0.021      A\n",
            "338   08-01-2022           C            R7          0.80  0.016      A\n",
            "416   09-01-2022           B            R7          1.10  0.080      A\n",
            "506   10-01-2022           B            R7          1.10  0.026      A\n",
            "516   10-01-2022           B            R7          0.90  0.017      A\n",
            "572   11-01-2022           A            R7          1.00  0.018      A\n",
            "604   11-01-2022           B            R7          0.80  0.023      A\n",
            "634   11-01-2022           C            R7          0.70  0.019      A\n",
            "671   12-01-2022           A            R7          1.00  0.021      A\n",
            "684   12-01-2022           B            R7          0.90  0.032      A\n",
            "693   12-01-2022           B            R7          0.80  0.025      A\n",
            "756   13-01-2022           A            R7          1.00  0.016      A\n",
            "887   14-01-2022           B            R7          0.75  0.022      A\n",
            "902   14-01-2022           C            R7          1.00  0.027      A\n",
            "916   14-01-2022           C            R7          0.70  0.018      A\n",
            "1087  16-01-2022           C            R7          1.20  0.026      A\n",
            "1135  17-01-2022           A            R7          1.00  0.030      A\n",
            "1151  17-01-2022           B            R7          0.80  0.040      A\n",
            "1160  17-01-2022           B            R7          0.80  0.032      A\n",
            "1386  19-01-2022           C            R7          0.80  0.017      A\n",
            "1397  20-01-2022           A            R7          0.80  0.044      A\n",
            "1418  20-01-2022           A            R7          0.80  0.017      A\n",
            "1486  20-01-2022           C            R7          0.70  0.027      A\n",
            "1496  21-01-2022           A            R7          0.80  0.035      A\n",
            "1530  21-01-2022           B            R7          1.20  0.023      A\n",
            "1758  23-01-2022           C            R7          0.70  0.020      A\n",
            "1774  23-01-2022           C            R7          0.90  0.028      A\n",
            "1786  24-01-2022           A            R7          0.90  0.017      A\n",
            "2598  01-02-2022           B            R7          0.80  0.019      A\n",
            "2655  02-02-2022           A            R7          0.80  0.028      A\n",
            "2668  02-02-2022           B            R7          0.90  0.019      A\n",
            "2686  02-02-2022           B            R7          0.70  0.030      A\n",
            "2713  02-02-2022           C            R7          0.90  0.014      A\n",
            "2725  03-02-2022           A            R7          0.70  0.016      A\n",
            "2740  03-02-2022           A            R7          0.80  0.020      A\n",
            "2761  03-02-2022           B            R7          1.00  0.053      A\n",
            "2770  03-02-2022           B            R7          1.00  0.063      A\n",
            "2791  03-02-2022           C            R7          1.60  0.019      A\n",
            "2885  04-02-2022           C            R7          0.90  0.015      A\n"
          ]
        }
      ]
    }
  ],
  "metadata": {
    "colab": {
      "name": "Welcome To Colaboratory",
      "provenance": [],
      "include_colab_link": true
    },
    "kernelspec": {
      "display_name": "Python 3",
      "name": "python3"
    }
  },
  "nbformat": 4,
  "nbformat_minor": 0
}