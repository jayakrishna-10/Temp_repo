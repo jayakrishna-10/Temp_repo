{
  "cells": [
    {
      "cell_type": "markdown",
      "metadata": {
        "id": "view-in-github",
        "colab_type": "text"
      },
      "source": [
        "<a href=\"https://colab.research.google.com/github/jayakrishna-10/Temp_repo/blob/main/anion_silica_vs_conductivity.ipynb\" target=\"_parent\"><img src=\"https://colab.research.google.com/assets/colab-badge.svg\" alt=\"Open In Colab\"/></a>"
      ]
    },
    {
      "cell_type": "code",
      "source": [
        "import pandas as pd\n",
        "main_df = pd.read_csv(\"/content/drive/MyDrive/Colab Notebooks/dm_results_2022.csv\")\n",
        "silica_df = main_df[[\"ENTRY_DATE\",\"ENTRY_SHIFT\",\"SAMPLE_SOURCE\",\"CONDUCTIVITY\",\"SIO2\"]]\n",
        "anion_df = silica_df.loc[silica_df[\"SAMPLE_SOURCE\"]==\"R6\"]\n",
        "hca_df = anion_df.loc[anion_df[\"CONDUCTIVITY\"]>=25]\n",
        "lca_df = anion_df.loc[anion_df[\"CONDUCTIVITY\"]<25]\n",
        "\n",
        "hchs_df = anion_df.loc[(anion_df[\"CONDUCTIVITY\"]>=25)&(anion_df[\"SIO2\"]>0.09)&(anion_df[\"SIO2\"]<0.5)]\n",
        "lchs_df = anion_df.loc[(anion_df[\"CONDUCTIVITY\"]<25)&(anion_df[\"SIO2\"]>0.09)&(anion_df[\"SIO2\"]<0.5)]\n",
        "ohs_df = anion_df.loc[(anion_df[\"SIO2\"]>0.09)&(anion_df[\"SIO2\"]<0.5)]\n",
        "\n",
        "per_hchs = len(hchs_df)/len(hca_df)*100\n",
        "per_lchs = len(lchs_df)/len(lca_df)*100\n",
        "per_ohs = len(ohs_df)/len(anion_df)*100\n",
        "\n",
        "print(f\"% high silica in high cond: {per_hchs} \\n % high silica in low cond: {per_lchs} \\n % high silica overall: {per_ohs}\")"
      ],
      "metadata": {
        "id": "rfF_5EIqzL7S",
        "outputId": "adc1328d-4293-453b-d285-0c4d1979b0c4",
        "colab": {
          "base_uri": "https://localhost:8080/"
        }
      },
      "execution_count": 6,
      "outputs": [
        {
          "output_type": "stream",
          "name": "stdout",
          "text": [
            "% high silica in high cond: 63.16614420062696 \n",
            " % high silica in low cond: 25.781584582441113 \n",
            " % high silica overall: 30.25795518734701\n"
          ]
        }
      ]
    },
    {
      "cell_type": "code",
      "source": [
        "from google.colab import drive\n",
        "drive.mount('/content/drive')"
      ],
      "metadata": {
        "id": "38x0GL8XElYN",
        "outputId": "83c3ae61-f9a3-4f75-e56f-ab7dd8e5b9ba",
        "colab": {
          "base_uri": "https://localhost:8080/"
        }
      },
      "execution_count": 2,
      "outputs": [
        {
          "output_type": "stream",
          "name": "stdout",
          "text": [
            "Drive already mounted at /content/drive; to attempt to forcibly remount, call drive.mount(\"/content/drive\", force_remount=True).\n"
          ]
        }
      ]
    },
    {
      "cell_type": "code",
      "source": [],
      "metadata": {
        "id": "JxN9icev57-a"
      },
      "execution_count": null,
      "outputs": []
    }
  ],
  "metadata": {
    "colab": {
      "name": "Welcome To Colaboratory",
      "provenance": [],
      "include_colab_link": true
    },
    "kernelspec": {
      "display_name": "Python 3",
      "name": "python3"
    }
  },
  "nbformat": 4,
  "nbformat_minor": 0
}