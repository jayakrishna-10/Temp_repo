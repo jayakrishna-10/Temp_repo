{
  "cells": [
    {
      "cell_type": "markdown",
      "metadata": {
        "id": "view-in-github",
        "colab_type": "text"
      },
      "source": [
        "<a href=\"https://colab.research.google.com/github/jayakrishna-10/Temp_repo/blob/main/anion_silica_vs_conductivity.ipynb\" target=\"_parent\"><img src=\"https://colab.research.google.com/assets/colab-badge.svg\" alt=\"Open In Colab\"/></a>"
      ]
    },
    {
      "cell_type": "code",
      "source": [
        "from google.colab import drive\n",
        "drive.mount('/content/drive')\n",
        "\n",
        "import pandas as pd\n",
        "main_df = pd.read_csv(\"/content/drive/MyDrive/Colab Notebooks/dm_results_2022.csv\")\n",
        "silica_df = main_df[[\"ENTRY_DATE\",\"ENTRY_SHIFT\",\"SAMPLE_SOURCE\",\"CONDUCTIVITY\",\"SIO2\",\"BED_NO\"]]\n",
        "anion_df = silica_df.loc[silica_df[\"SAMPLE_SOURCE\"]==\"R6\"]\n",
        "hca_df = anion_df.loc[anion_df[\"CONDUCTIVITY\"]>=25]\n",
        "lca_df = anion_df.loc[anion_df[\"CONDUCTIVITY\"]<25]\n",
        "\n",
        "hchs_df = anion_df.loc[(anion_df[\"CONDUCTIVITY\"]>=25)&(anion_df[\"SIO2\"]>0.09)&(anion_df[\"SIO2\"]<0.5)]\n",
        "lchs_df = anion_df.loc[(anion_df[\"CONDUCTIVITY\"]<25)&(anion_df[\"SIO2\"]>0.09)&(anion_df[\"SIO2\"]<0.5)]\n",
        "ohs_df = anion_df.loc[(anion_df[\"SIO2\"]>0.09)&(anion_df[\"SIO2\"]<0.5)]\n",
        "\n",
        "per_hchs = len(hchs_df)/len(hca_df)*100\n",
        "per_lchs = len(lchs_df)/len(lca_df)*100\n",
        "per_ohs = len(ohs_df)/len(anion_df)*100\n",
        "\n",
        "print(f\"% high silica in high cond: {per_hchs} \\n % high silica in low cond: {per_lchs} \\n % high silica overall: {per_ohs}\")"
      ],
      "metadata": {
        "id": "rfF_5EIqzL7S",
        "outputId": "adbc9608-0b83-4c52-b11f-24e895dd5d26",
        "colab": {
          "base_uri": "https://localhost:8080/"
        }
      },
      "execution_count": 9,
      "outputs": [
        {
          "output_type": "stream",
          "name": "stdout",
          "text": [
            "Drive already mounted at /content/drive; to attempt to forcibly remount, call drive.mount(\"/content/drive\", force_remount=True).\n",
            "% high silica in high cond: 63.16614420062696 \n",
            " % high silica in low cond: 25.781584582441113 \n",
            " % high silica overall: 30.25795518734701\n"
          ]
        }
      ]
    },
    {
      "cell_type": "code",
      "source": [
        "r6a_df = silica_df.loc[(silica_df[\"BED_NO\"]==\"A\")&(silica_df[\"SAMPLE_SOURCE\"]==\"R6\")]\n",
        "r6b_df = silica_df.loc[(silica_df[\"BED_NO\"]==\"B\")&(silica_df[\"SAMPLE_SOURCE\"]==\"R6\")]\n",
        "r6c_df = silica_df.loc[(silica_df[\"BED_NO\"]==\"C\")&(silica_df[\"SAMPLE_SOURCE\"]==\"R6\")]\n",
        "r6d_df = silica_df.loc[(silica_df[\"BED_NO\"]==\"D\")&(silica_df[\"SAMPLE_SOURCE\"]==\"R6\")]\n",
        "r6e_df = silica_df.loc[(silica_df[\"BED_NO\"]==\"E\")&(silica_df[\"SAMPLE_SOURCE\"]==\"R6\")]\n",
        "r6f_df = silica_df.loc[(silica_df[\"BED_NO\"]==\"F\")&(silica_df[\"SAMPLE_SOURCE\"]==\"R6\")]\n",
        "\n",
        "r7a_df = silica_df.loc[(silica_df[\"BED_NO\"]==\"A\")&(silica_df[\"SAMPLE_SOURCE\"]==\"R7\")]\n",
        "r7b_df = silica_df.loc[(silica_df[\"BED_NO\"]==\"B\")&(silica_df[\"SAMPLE_SOURCE\"]==\"R7\")]\n",
        "r7c_df = silica_df.loc[(silica_df[\"BED_NO\"]==\"C\")&(silica_df[\"SAMPLE_SOURCE\"]==\"R7\")]\n",
        "r7d_df = silica_df.loc[(silica_df[\"BED_NO\"]==\"D\")&(silica_df[\"SAMPLE_SOURCE\"]==\"R7\")]\n",
        "r7e_df = silica_df.loc[(silica_df[\"BED_NO\"]==\"E\")&(silica_df[\"SAMPLE_SOURCE\"]==\"R7\")]\n",
        "r7f_df = silica_df.loc[(silica_df[\"BED_NO\"]==\"F\")&(silica_df[\"SAMPLE_SOURCE\"]==\"R7\")]\n",
        "\n"
      ],
      "metadata": {
        "id": "JxN9icev57-a"
      },
      "execution_count": 21,
      "outputs": []
    },
    {
      "cell_type": "code",
      "source": [],
      "metadata": {
        "colab": {
          "base_uri": "https://localhost:8080/"
        },
        "id": "k9EsO9coTCm1",
        "outputId": "8fcf284d-2a65-4008-975b-8da47ab7cbb3"
      },
      "execution_count": 28,
      "outputs": [
        {
          "output_type": "execute_result",
          "data": {
            "text/plain": [
              "0.015"
            ]
          },
          "metadata": {},
          "execution_count": 28
        }
      ]
    },
    {
      "cell_type": "code",
      "source": [
        "def abnormal_lab(df):\n",
        "  n = 1\n",
        "  n_max = len(df)\n",
        "  abnormal_data=[]\n",
        "  lab_error_data = []\n",
        "  abnormal_dates=[]\n",
        "  lab_error_dates = []\n",
        "  while n<n_max-2:\n",
        "    diff1 = abs(df.iloc[n][\"SIO2\"]-df.iloc[n-1][\"SIO2\"])\n",
        "    diff2 = abs(df.iloc[n][\"SIO2\"]-df.iloc[n+1][\"SIO2\"])\n",
        "    if diff1 >=0.008:\n",
        "      n1_data = f'Date: {df.iloc[n-1][\"ENTRY_DATE\"]}-{df.iloc[n-1][\"ENTRY_SHIFT\"]} Silica:{df.iloc[n-1][\"SIO2\"]}'\n",
        "      n_data = f'Date: {df.iloc[n][\"ENTRY_DATE\"]}-{df.iloc[n][\"ENTRY_SHIFT\"]} Silica:{df.iloc[n][\"SIO2\"]}'\n",
        "      abnormal_data.append(f\"{n1_data}\\n{n_data}\")\n",
        "      abnormal_dates.append(n-1)\n",
        "      abnormal_dates.append(n)\n",
        "\n",
        "    if diff1 >=0.005 and diff2>=0.005:\n",
        "      n2_data = f'Date: {df.iloc[n-2][\"ENTRY_DATE\"]}-{df.iloc[n-2][\"ENTRY_SHIFT\"]} Silica:{df.iloc[n-2][\"SIO2\"]}'\n",
        "      n1_data = f'Date: {df.iloc[n-1][\"ENTRY_DATE\"]}-{df.iloc[n-1][\"ENTRY_SHIFT\"]} Silica:{df.iloc[n-1][\"SIO2\"]}'\n",
        "      n_data = f'Date: {df.iloc[n][\"ENTRY_DATE\"]}-{df.iloc[n][\"ENTRY_SHIFT\"]} Silica:{df.iloc[n][\"SIO2\"]}'\n",
        "      n11_data = f'Date: {df.iloc[n+1][\"ENTRY_DATE\"]}-{df.iloc[n+1][\"ENTRY_SHIFT\"]} Silica:{df.iloc[n+1][\"SIO2\"]}'\n",
        "      n22_data = f'Date: {df.iloc[n+2][\"ENTRY_DATE\"]}-{df.iloc[n+2][\"ENTRY_SHIFT\"]} Silica:{df.iloc[n+2][\"SIO2\"]}'\n",
        "      lab_error_data.append(f\"{n2_data}\\n.\\n{n1_data}\\n{n_data}\\n{n11_data}\\n.\\n{n22_data}\")\n",
        "      lab_error_dates.append(n-1)\n",
        "      lab_error_dates.append(n)\n",
        "      lab_error_dates.append(n+1)\n",
        "\n",
        "    n=n+1\n",
        "  lab_dict = {\"abnormal_dates\":abnormal_dates, \"lab_error_dates\":lab_error_dates, \n",
        "              \"lab_error_data\":lab_error_data, \"abnormal_data\":abnormal_data}\n",
        "  return lab_dict\n",
        "\n",
        "r7a_abnormal_data = abnormal_lab(r7a_df)[\"abnormal_data\"]\n",
        "r7a_abnormal_dates = abnormal_lab(r7a_df)[\"abnormal_dates\"]\n",
        "r7a_lab_error_dates = abnormal_lab(r7a_df)[\"lab_error_dates\"]\n",
        "r7a_lab_error_data = abnormal_lab(r7a_df)[\"lab_error_data\"]\n",
        "\n",
        "#print(r7a_df.iloc[list(set(r7a_abnormal_dates))].head(40))\n",
        "#print(r7a_df.iloc[list(set(r7a_lab_error_dates))].head(40))\n",
        "\n",
        "for item in r7a_lab_error_data:\n",
        "  pass\n",
        "  #print(item)\n",
        "  #print(\"===============================\")\n",
        "  \n",
        "\n",
        "\n",
        "  \n"
      ],
      "metadata": {
        "id": "BYz0NZHBJzIJ"
      },
      "execution_count": 51,
      "outputs": []
    }
  ],
  "metadata": {
    "colab": {
      "name": "Welcome To Colaboratory",
      "provenance": [],
      "include_colab_link": true
    },
    "kernelspec": {
      "display_name": "Python 3",
      "name": "python3"
    }
  },
  "nbformat": 4,
  "nbformat_minor": 0
}